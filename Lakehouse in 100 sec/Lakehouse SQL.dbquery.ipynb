{
 "cells": [
  {
   "cell_type": "code",
   "execution_count": 0,
   "metadata": {
    "application/vnd.databricks.v1+cell": {
     "cellMetadata": {
      "byteLimit": 10485760,
      "rowLimit": 1000
     },
     "inputWidgets": {},
     "nuid": "7983c60e-c87f-4e85-a817-5287665c6dfc",
     "showTitle": false,
     "tableResultSettingsMap": {},
     "title": ""
    }
   },
   "outputs": [],
   "source": [
    "-- test\n",
    "SELECT \n",
    "  product,\n",
    "  quantity,\n",
    "  paymentMethod \n",
    "FROM \n",
    "  demo_frank.lakehouse.transactions \n",
    "  --  TIMESTAMP AS OF '2024-11-21T00:00:00Z'\n",
    "  VERSION AS OF 1\n",
    "WHERE \n",
    "  paymentMethod = \"visa\" \n",
    "LIMIT \n",
    "  15;"
   ]
  }
 ],
 "metadata": {
  "application/vnd.databricks.v1+notebook": {
   "computePreferences": null,
   "dashboards": [],
   "environmentMetadata": null,
   "inputWidgetPreferences": null,
   "language": "sql",
   "notebookMetadata": {
    "pythonIndentUnit": 2,
    "sqlQueryOptions": {
     "applyAutoLimit": true,
     "catalog": "demo_frank",
     "schema": "lakehouse"
    }
   },
   "notebookName": "Lakehouse SQL.dbquery.ipynb",
   "widgets": {}
  },
  "language_info": {
   "name": "sql"
  }
 },
 "nbformat": 4,
 "nbformat_minor": 0
}
