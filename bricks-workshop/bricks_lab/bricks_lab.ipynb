{
 "cells": [
  {
   "cell_type": "markdown",
   "metadata": {
    "application/vnd.databricks.v1+cell": {
     "cellMetadata": {},
     "inputWidgets": {},
     "nuid": "3388e851-e1fa-406a-83e5-f506bb4f3865",
     "showTitle": false,
     "tableResultSettingsMap": {},
     "title": ""
    }
   },
   "source": [
    "# Agent Bricks Lab: Build, Orchestrate, and Improve Multi-Agent Systems\n",
    "\n",
    "In this lab, you’ll learn how to create and refine AI agents using **Databricks Agent Bricks**. You’ll start by building a **Knowledge Assistant** grounded in company product docs and historical support tickets, then expand it with a **Genie-powered structured data agent**. Finally, you’ll orchestrate them together with a **Multi-Agent Supervisor** and guide the system to produce better, user-friendly responses.\n"
   ]
  },
  {
   "cell_type": "markdown",
   "metadata": {
    "application/vnd.databricks.v1+cell": {
     "cellMetadata": {},
     "inputWidgets": {},
     "nuid": "531295ae-af9e-4f1c-aaa3-25c017008356",
     "showTitle": false,
     "tableResultSettingsMap": {},
     "title": ""
    }
   },
   "source": [
    "## Part 1: Build Your First Knowledge Assistant  \n",
    "\n",
    "### 1.1 Create a Vector Search Index  \n",
    "- **Why Vector Search?**  \n",
    "  - Provides efficient retrieval of relevant chunks of data for grounding LLM responses.  \n",
    "  - Two common types:  \n",
    "    - **Triggered updates** (for static knowledge bases like FAQs/policies).  \n",
    "    - **Continuous updates** (for dynamic sources like support tickets).  \n",
    "- **Demo:** Indexes are pre-built for this lab, but you’ll see how easy it is to create one.\n",
    "\n",
    "### 1.2 Build the Knowledge Assistant Agent  \n",
    "- **Navigate to “Agents”** in the UI.  \n",
    "- **Create a new Knowledge Assistant** using the two pre-built vector search indices:  \n",
    "  - **Knowledge Base** – Company details, FAQs, policies, and procedures.  \n",
    "  - **Support Tickets** – Historical tickets and their resolutions.  \n",
    "- **Example setup:**  \n",
    "  - **Name:** `[your_initials]-BricksLab-TechnicalSupport`  \n",
    "  - **Description:** Provides telco product support using company docs and historical tickets.  \n",
    "\n",
    "### 1.3 Test the Knowledge Assistant  \n",
    "- **Sample Question:** *How do I know if my 5G is working?*  \n",
    "- Observe the verbose answer with citations and traces.  \n",
    "- Explore how the assistant grounds responses in living company data.  \n"
   ]
  },
  {
   "cell_type": "markdown",
   "metadata": {
    "application/vnd.databricks.v1+cell": {
     "cellMetadata": {},
     "inputWidgets": {},
     "nuid": "83346fdc-e654-4bfe-b8a2-6ec2673bcdaa",
     "showTitle": false,
     "tableResultSettingsMap": {},
     "title": ""
    }
   },
   "source": [
    "---\n",
    "## Part 2: Expand with Genie for Structured Data  \n",
    "\n",
    "### 2.1 Query Structured Data with Genie  \n",
    "- **Genie spaces** allow natural language queries over structured data (SQL tables).  \n",
    "- Genie is pre-configured to access **billing and customer tables**.  \n",
    "- **Try It Out:**  \n",
    "  - Ask *“What is the average total bill?”*  \n",
    "  - Guide Genie with examples/instructions to better align with your data structures.  \n",
    "\n",
    "### 2.2 Treat Genie as an Agent  \n",
    "- Genie rooms can be registered as agents, enabling them to participate in multi-agent workflows.  \n",
    "- Use Genie when customer-specific or billing data is required.  \n"
   ]
  },
  {
   "cell_type": "markdown",
   "metadata": {
    "application/vnd.databricks.v1+cell": {
     "cellMetadata": {},
     "inputWidgets": {},
     "nuid": "516a7c8e-4e31-4931-a446-bda84467f58b",
     "showTitle": false,
     "tableResultSettingsMap": {},
     "title": ""
    }
   },
   "source": [
    "---\n",
    "## Part 3: Orchestrate with a Multi-Agent Supervisor  \n",
    "\n",
    "### 3.1 Create a Multi-Agent Supervisor (MAS)  \n",
    "- Combines multiple agents to intelligently route queries.  \n",
    "- **Setup:**  \n",
    "  - **MAS Name:** `[your_initials]-BricksLab-MultiAgent`  \n",
    "  - **Description:** Provides telco support across both product and billing questions.  \n",
    "  - **Add Agents:**  \n",
    "    - Genie Agent → Billing and customer data.  \n",
    "    - Knowledge Assistant → Product and support documentation.  \n",
    "\n",
    "### 3.2 Test the MAS  \n",
    "- **Billing Question:** *Why did my bill go up this month?*  \n",
    "  - Add context: *Assume user ID = `CUS-10001`, date = June 2025*.  \n",
    "  - MAS should route query to Genie for customer-specific data.  \n",
    "- **Support Question:** *My phone is getting hot — what does hotspot mean, and how do I turn it off?*  \n",
    "  - MAS routes to Knowledge Assistant for product guidance.  \n"
   ]
  },
  {
   "cell_type": "markdown",
   "metadata": {
    "application/vnd.databricks.v1+cell": {
     "cellMetadata": {},
     "inputWidgets": {},
     "nuid": "cd971519-804a-4ad6-9e4c-14a7ae392d30",
     "showTitle": false,
     "tableResultSettingsMap": {},
     "title": ""
    }
   },
   "source": [
    "---\n",
    "## Part 4: Improve Quality with Feedback  \n",
    "\n",
    "### 4.1 Identify Response Issues  \n",
    "- Some answers may be too verbose or technical for end users.  \n",
    "- Example: The hotspot explanation may be correct but overly long.  \n",
    "\n",
    "### 4.2 Provide Feedback via Labeling Session  \n",
    "- Click **“Improve Quality”** on the agent.  \n",
    "- Add the question: *“What does hotspot mean and how do I turn it off?”*  \n",
    "- Open labeling session → Leave feedback:  \n",
    "  - *“Keep the response very short, two sentences max.”*  \n",
    "- Save feedback and merge changes into the agent.  \n",
    "\n",
    "### 4.3 Re-test the Agent  \n",
    "- Verify concise responses are now produced.  \n",
    "- Observe how natural language feedback guides behavior without coding.  \n"
   ]
  },
  {
   "cell_type": "markdown",
   "metadata": {
    "application/vnd.databricks.v1+cell": {
     "cellMetadata": {},
     "inputWidgets": {},
     "nuid": "f1ac7852-4526-47a8-9f08-2b8d83e4a74c",
     "showTitle": false,
     "tableResultSettingsMap": {},
     "title": ""
    }
   },
   "source": [
    "---\n",
    "## Next Steps  \n",
    "- **Governance & Permissions:** Use Unity Catalog to control agent access on behalf of users.  \n",
    "- **Real-World Extension:** Continuously stream support tickets into your knowledge base.  \n",
    "- **Multi-Agent Patterns:** Add more specialized agents (e.g., troubleshooting, recommendations).  \n",
    "- **Production Deployment:** Register agents, monitor with MLflow, and integrate with apps or support portals.  \n",
    "\n",
    "🎉 Congratulations! You’ve built a **multi-agent system with Agent Bricks** that combines structured and unstructured data, routes intelligently, and adapts with user feedback. Time to add *“Agent Bricks Master”* to your LinkedIn!  \n"
   ]
  }
 ],
 "metadata": {
  "application/vnd.databricks.v1+notebook": {
   "computePreferences": null,
   "dashboards": [],
   "environmentMetadata": null,
   "inputWidgetPreferences": null,
   "language": "python",
   "notebookMetadata": {
    "pythonIndentUnit": 2
   },
   "notebookName": "bricks_lab",
   "widgets": {}
  },
  "kernelspec": {
   "display_name": "Python 3",
   "language": "python",
   "name": "python3"
  },
  "language_info": {
   "name": "python"
  }
 },
 "nbformat": 4,
 "nbformat_minor": 0
}
