{
 "cells": [
  {
   "cell_type": "markdown",
   "metadata": {
    "application/vnd.databricks.v1+cell": {
     "cellMetadata": {
      "byteLimit": 2048000,
      "rowLimit": 10000
     },
     "inputWidgets": {},
     "nuid": "ed35040e-83ec-4327-bf35-66ca631aaaab",
     "showTitle": false,
     "tableResultSettingsMap": {},
     "title": ""
    }
   },
   "source": [
    "#  Welcome to the Databricks Notebook \n",
    "\n",
    " The Notebook is the primary code authoring tool in Databricks.  With it, you can do anything from simple exploratory data analysis to training ML models or building multi-stage data pipelines.\n",
    "\n",
    "Let's dive in and explore bakehouse data to analyze sales!"
   ]
  },
  {
   "cell_type": "markdown",
   "metadata": {
    "application/vnd.databricks.v1+cell": {
     "cellMetadata": {
      "byteLimit": 2048000,
      "rowLimit": 10000
     },
     "inputWidgets": {},
     "nuid": "43ddc56c-36f8-4a0f-a3a5-403694d856af",
     "showTitle": false,
     "tableResultSettingsMap": {},
     "title": ""
    }
   },
   "source": [
    "### Step 1: Lets get started \n",
    "\n",
    "To run code in a Notebook cell, simply type your code and either click the Run cell button (top-left of the cell) or use `Cmd + Enter.`\n",
    "</br>\n",
    "</br>\n",
    "<img src=https://docs.databricks.com/en/_images/cell-run-new.png>\n",
    "\n",
    "\n",
    "Try running the provided statement: `print(\"Let's execute some Python code!\")`."
   ]
  },
  {
   "cell_type": "code",
   "execution_count": 0,
   "metadata": {
    "application/vnd.databricks.v1+cell": {
     "cellMetadata": {
      "byteLimit": 2048000,
      "rowLimit": 10000
     },
     "inputWidgets": {},
     "nuid": "5175f00e-31a3-403c-9177-b8caa1b25638",
     "showTitle": false,
     "tableResultSettingsMap": {},
     "title": ""
    }
   },
   "outputs": [],
   "source": [
    "print(\"Let's execute some Python code!\")"
   ]
  },
  {
   "cell_type": "markdown",
   "metadata": {
    "application/vnd.databricks.v1+cell": {
     "cellMetadata": {
      "byteLimit": 2048000,
      "rowLimit": 10000
     },
     "inputWidgets": {},
     "nuid": "8b016b0f-7e32-4834-b21d-cd6c32deeb88",
     "showTitle": false,
     "tableResultSettingsMap": {},
     "title": ""
    }
   },
   "source": [
    "#### Try the command palette\n",
    "\n",
    "Use the `[Cmd + Shift + P]` keyboard shortcut to open the command palette for key notebook actions like inserting new cells, showing results side by side and more.\n",
    "\n",
    "Use it to insert a cell. \n",
    "\n",
    "<img src=\"https://docs.databricks.com/en/_images/command-palette.gif\" width=500>\n"
   ]
  },
  {
   "cell_type": "markdown",
   "metadata": {
    "application/vnd.databricks.v1+cell": {
     "cellMetadata": {
      "byteLimit": 2048000,
      "rowLimit": 10000
     },
     "inputWidgets": {},
     "nuid": "97df509f-1f2f-47e2-bdf1-fe79765e0c01",
     "showTitle": false,
     "tableResultSettingsMap": {},
     "title": ""
    }
   },
   "source": [
    "#### The Notebook is a multi-language authoring experience\n",
    "\n",
    "You're not limited to just Python in Databricks! You can write and execute code in Python, SQL and you can annotate your notebooks using Markdown.\n",
    "\n",
    "##### Let's go ahead and change the language using the top-right drop-down.\n",
    "\n",
    "- Insert a new cell below the current cell using the command palette. \n",
    "- Use the language switcher to change its language to SQL. Notice that `%sql` shows up at the top of the cell. This is called a [magic command](https://docs.databricks.com/en/notebooks/notebooks-code.html#mix-languages). \n",
    "- Type in `select \"hello world\";` and press run."
   ]
  },
  {
   "cell_type": "markdown",
   "metadata": {
    "application/vnd.databricks.v1+cell": {
     "cellMetadata": {
      "byteLimit": 2048000,
      "rowLimit": 10000
     },
     "inputWidgets": {},
     "nuid": "0f7fd312-20f1-4c65-89fa-8f91d57622e3",
     "showTitle": false,
     "tableResultSettingsMap": {},
     "title": ""
    }
   },
   "source": [
    "### Step 2: Access sample data\n",
    "\n",
    "In this exercise, we’ll use the Bakehouse dataset stored in samples.bakehouse, simulating bakery franchise data. Start by viewing the `samples.bakehouse.sales_transactions` table.\n",
    "\n",
    "On the left side of the Notebook, access the Catalog view to browse catalogs, schemas, and tables.\n",
    "\n",
    "To find the `sales_transactions` table, open the schema browser by clicking ![](https://docs.databricks.com/en/_images/notebook-data-icon.png) on the left, navigate to **Samples**, select the **bakehouse** schema and find the **sales_transactions** table, then click the kebab menu  <img src=\"https://docs.databricks.com/en/_images/kebab-menu.png\"> next to the table and choose **Preview in new cell**."
   ]
  },
  {
   "cell_type": "markdown",
   "metadata": {
    "application/vnd.databricks.v1+cell": {
     "cellMetadata": {
      "byteLimit": 2048000,
      "rowLimit": 10000
     },
     "inputWidgets": {},
     "nuid": "1c7d9e31-ceda-4172-94aa-291a64d33034",
     "showTitle": false,
     "tableResultSettingsMap": {},
     "title": ""
    }
   },
   "source": [
    "\n",
    "### Step 3: Explore and analyze data\n",
    "Our bakehouse operates franchises across multiple countries, offering a variety of products.\n",
    "\n",
    "We’ll begin by identifying the most popular product by querying the sample data using Python."
   ]
  },
  {
   "cell_type": "code",
   "execution_count": 0,
   "metadata": {
    "application/vnd.databricks.v1+cell": {
     "cellMetadata": {
      "byteLimit": 2048000,
      "rowLimit": 10000
     },
     "inputWidgets": {},
     "nuid": "f95c75dd-3cd1-4560-976b-06c9f779033a",
     "showTitle": true,
     "tableResultSettingsMap": {},
     "title": "Most popular product"
    }
   },
   "outputs": [],
   "source": [
    "import pandas as pd\n",
    "\n",
    "# Read the sample bakehouse transactions and franchises datasets and load them into a PySpark DataFrame. \n",
    "df_transactions = spark.read.table('samples.bakehouse.sales_transactions')\n",
    "df_franchises = spark.read.table('samples.bakehouse.sales_franchises')\n",
    "\n",
    "# Convert PySpark DataFrame to Pandas DataFrame\n",
    "pdf_transactions = df_transactions.toPandas()\n",
    "pdf_franchises = df_franchises.toPandas()\n",
    "\n",
    "# Which product sold the most units?\n",
    "top_product = (pdf_transactions.groupby('product')['quantity']\n",
    "          .sum()\n",
    "          .reset_index()\n",
    "          .sort_values(by='quantity', ascending=False)\n",
    "         )\n",
    "        \n",
    "display(top_product)"
   ]
  },
  {
   "cell_type": "markdown",
   "metadata": {
    "application/vnd.databricks.v1+cell": {
     "cellMetadata": {},
     "inputWidgets": {},
     "nuid": "d58b2dcd-4010-4f16-b5c8-ec95e62f6b09",
     "showTitle": false,
     "tableResultSettingsMap": {},
     "title": ""
    }
   },
   "source": [
    "**Golden Gate Ginger** is our best-selling cookie! \n",
    "\n",
    "To identify the top-performing city for its sales, we’ll join the `transactions` table with the `franchises` table. This will allow us to analyze which city sells the most units of Golden Gate Ginger."
   ]
  },
  {
   "cell_type": "code",
   "execution_count": 0,
   "metadata": {
    "application/vnd.databricks.v1+cell": {
     "cellMetadata": {},
     "inputWidgets": {},
     "nuid": "c0ff5dfa-a8e8-4c15-a79f-03c64d894bc1",
     "showTitle": true,
     "tableResultSettingsMap": {},
     "title": "Join franchises and transactions tables"
    }
   },
   "outputs": [],
   "source": [
    "## Top city selling most units of Golden Gate Ginger\n",
    "top_city = (pdf_franchises.merge(pdf_transactions[pdf_transactions['product'] == 'Golden Gate Ginger'], \n",
    "                            on='franchiseID', \n",
    "                            how='right')\n",
    "            .groupby('city')['quantity']\n",
    "            .sum()\n",
    "            .reset_index()\n",
    "            .sort_values(by='quantity', ascending=False)\n",
    "            .rename(columns={'quantity': 'units'})\n",
    "         )\n",
    "\n",
    "display(top_city)"
   ]
  },
  {
   "cell_type": "markdown",
   "metadata": {
    "application/vnd.databricks.v1+cell": {
     "cellMetadata": {
      "byteLimit": 2048000,
      "rowLimit": 10000
     },
     "inputWidgets": {},
     "nuid": "feadbdd7-b32e-49ba-a266-8e568f434bea",
     "showTitle": false,
     "tableResultSettingsMap": {},
     "title": ""
    }
   },
   "source": [
    "### Step 4: Search and filter the Results table\n",
    "\n",
    "**Sort Results:**\n",
    "Hover over a column name in the results table above, then click the arrow icon that appears to sort by that column’s values.\n",
    "</br>\n",
    "<img src=\"https://docs.databricks.com/en/_images/result-table-sort.png\" width=350>\n",
    "</br>\n",
    "\n",
    "- Try sorting the results table in ascending order above to find the city selling the least number of Golden Gate Ginger cookies. \n",
    "</br>\n",
    "</br>\n",
    "\n",
    "**Filter results:**\n",
    "To create a filter, click <img src=\"https://docs.databricks.com/en/_images/filter-icon.png\"> at the upper-right of the cell results. In the dialog that appears, select the column to filter on and the filter rule and value to apply. \n",
    "- Try filtering for all cities selling **more than 100 units of Golden Gate Ginger** by typing in `units > 100`.\n",
    "\n",
    "\n"
   ]
  },
  {
   "cell_type": "markdown",
   "metadata": {
    "application/vnd.databricks.v1+cell": {
     "cellMetadata": {
      "byteLimit": 2048000,
      "rowLimit": 10000
     },
     "inputWidgets": {},
     "nuid": "1fd7976b-250f-4b60-9909-0a8e24d7f91c",
     "showTitle": false,
     "tableResultSettingsMap": {},
     "title": ""
    }
   },
   "source": [
    "### Step 5: Visualize the data\n",
    "\n",
    "Let’s visualize **_weekly sales of Golden Gate Ginger across all locations_**.\n",
    "\n",
    "- Run the cell below to display the Golden Gate Ginger sales data. \n",
    "- To create a visualization, click the **+** button at the top of the results, then follow the steps in the visualization builder. \n",
    "- Choose your preferred chart type and set the chart values to complete your visualization.\n",
    "\n",
    "\n",
    "\n",
    "<img src=\"https://docs.databricks.com/en/_images/new-visualization-menu.png\" width=600>\n",
    "\n",
    "- View a sample visualization by clicking Golden Gate Ginger sales table in the Results section below."
   ]
  },
  {
   "cell_type": "code",
   "execution_count": 0,
   "metadata": {
    "application/vnd.databricks.v1+cell": {
     "cellMetadata": {
      "byteLimit": 2048000,
      "implicitDf": true,
      "rowLimit": 10000
     },
     "inputWidgets": {},
     "nuid": "8a5f5980-10a6-4b21-b798-50aa95b426ca",
     "showTitle": false,
     "tableResultSettingsMap": {},
     "title": ""
    }
   },
   "outputs": [
    {
     "output_type": "display_data",
     "data": {
      "text/plain": [
       "Databricks visualization. Run in Databricks to view."
      ]
     },
     "metadata": {
      "application/vnd.databricks.v1.subcommand+json": {
       "baseErrorDetails": null,
       "bindings": {},
       "collapsed": false,
       "command": "%sql WITH q AS (SELECT\nf.name as franchise_name, \ndate_trunc('week',datetime) as week, \nsum(quantity) as quantity\nFROM samples.bakehouse.sales_transactions t join samples.bakehouse.sales_franchises f on t.franchiseID = f.franchiseID\nWHERE product = 'Outback Oatmeal' \nGROUP BY 1,2) SELECT `franchise_name`,SUM(`quantity`) `column_307907b74`,`week` FROM q GROUP BY `franchise_name`,`week`",
       "commandTitle": "Golden Gate Ginger Sales",
       "commandType": "auto",
       "commandVersion": 0,
       "commentThread": [],
       "commentsVisible": false,
       "contentSha256Hex": null,
       "customPlotOptions": {
        "redashChart": [
         {
          "key": "type",
          "value": "CHART"
         },
         {
          "key": "options",
          "value": {
           "alignYAxesAtZero": true,
           "coefficient": 1,
           "columnConfigurationMap": {
            "series": {
             "column": "week",
             "id": "column_307907b76"
            },
            "x": {
             "column": "franchise_name",
             "id": "column_307907b71"
            },
            "y": [
             {
              "column": "quantity",
              "id": "column_307907b74",
              "transform": "SUM"
             }
            ]
           },
           "dateTimeFormat": "DD/MM/YYYY HH:mm",
           "direction": {
            "type": "counterclockwise"
           },
           "error_y": {
            "type": "data",
            "visible": true
           },
           "globalSeriesType": "column",
           "isAggregationOn": true,
           "legend": {
            "traceorder": "normal"
           },
           "missingValuesAsZero": true,
           "numberFormat": "0,0.[00000]",
           "percentFormat": "0[.]00%",
           "series": {
            "error_y": {
             "type": "data",
             "visible": true
            },
            "stacking": "stack"
           },
           "seriesOptions": {
            "column_307907b74": {
             "type": "column",
             "yAxis": 0
            }
           },
           "showDataLabels": false,
           "sizemode": "diameter",
           "sortX": true,
           "sortY": true,
           "swappedAxes": false,
           "textFormat": "",
           "useAggregationsUi": true,
           "valuesOptions": {},
           "version": 2,
           "xAxis": {
            "labels": {
             "enabled": true
            },
            "type": "-"
           },
           "yAxis": [
            {
             "type": "-"
            },
            {
             "opposite": true,
             "type": "-"
            }
           ]
          }
         }
        ]
       },
       "datasetPreviewNameToCmdIdMap": {},
       "diffDeletes": [],
       "diffInserts": [],
       "displayType": "redashChart",
       "error": null,
       "errorDetails": null,
       "errorSummary": null,
       "errorTraceType": null,
       "finishTime": 0,
       "globalVars": {},
       "guid": "",
       "height": "auto",
       "hideCommandCode": false,
       "hideCommandResult": false,
       "iPythonMetadata": null,
       "inputWidgets": {},
       "isLockedInExamMode": false,
       "latestUser": "a user",
       "latestUserId": null,
       "listResultMetadata": null,
       "metadata": {
        "byteLimit": 2048000,
        "implicitDf": true,
        "rowLimit": 10000
       },
       "nuid": "aee9be7a-1a2e-4d83-8e69-593efb63f644",
       "origId": 0,
       "parentHierarchy": [],
       "pivotAggregation": null,
       "pivotColumns": null,
       "position": 1.0,
       "resultDbfsErrorMessage": null,
       "resultDbfsStatus": "INLINED_IN_TREE",
       "results": null,
       "showCommandTitle": false,
       "startTime": 0,
       "state": "input",
       "streamStates": {},
       "subcommandOptions": {
        "queryPlan": {
         "groups": [
          {
           "column": "franchise_name",
           "type": "column"
          },
          {
           "column": "week",
           "type": "column"
          }
         ],
         "selects": [
          {
           "column": "franchise_name",
           "type": "column"
          },
          {
           "alias": "column_307907b74",
           "args": [
            {
             "column": "quantity",
             "type": "column"
            }
           ],
           "function": "SUM",
           "type": "function"
          },
          {
           "column": "week",
           "type": "column"
          }
         ]
        }
       },
       "submitTime": 0,
       "subtype": "tableResultSubCmd.visualization",
       "tableResultIndex": 0,
       "tableResultSettingsMap": {},
       "useConsistentColors": false,
       "version": "CommandV1",
       "width": "auto",
       "workflows": null,
       "xColumns": null,
       "yColumns": null
      }
     },
     "output_type": "display_data"
    }
   ],
   "source": [
    "%sql\n",
    "--  How many units of Golden Gate Ginger are being sold across all locations every week?\n",
    "SELECT\n",
    "f.name as franchise_name, \n",
    "date_trunc('week',datetime) as week, \n",
    "sum(quantity) as quantity\n",
    "FROM samples.bakehouse.sales_transactions t join samples.bakehouse.sales_franchises f on t.franchiseID = f.franchiseID\n",
    "WHERE product = 'Golden Gate Ginger' \n",
    "GROUP BY 1,2\n",
    "\n",
    "-- Click Golden Gate Ginger Sales tab in the results section\n"
   ]
  },
  {
   "cell_type": "markdown",
   "metadata": {
    "application/vnd.databricks.v1+cell": {
     "cellMetadata": {
      "byteLimit": 2048000,
      "rowLimit": 10000
     },
     "inputWidgets": {},
     "nuid": "9218eb9b-0077-43b5-b10a-791dcecc8e3a",
     "showTitle": false,
     "tableResultSettingsMap": {},
     "title": ""
    }
   },
   "source": [
    "### Step 6: Use the Databricks Assistant for code suggestions\n",
    "Notebooks come equipped with the context-aware [Databricks Assistant](https://docs.databricks.com/en/notebooks/use-databricks-assistant.html), which can help generate, explain, and fix code using natural language.\n",
    "To use the assistant, create a new cell and click `CMD+I` or click <img src=\"https://docs.databricks.com/en/_images/help-assistant-icon.png\"> on the top right corner of the new cell.\n",
    "\n",
    "Enter a prompt for the Assistant to provide code suggestions in the cell below. Here is a sample prompt:\n",
    "- _Python code to show total units of Golden Gate Ginger sold._\n",
    "\n",
    "Click **Generate** or press **Enter** on the prompt and watch the Assistant suggest code to answer the prompt. Click “Accept” to save the code suggestion and run the cell to view the results!\n"
   ]
  },
  {
   "cell_type": "markdown",
   "metadata": {
    "application/vnd.databricks.v1+cell": {
     "cellMetadata": {
      "byteLimit": 2048000,
      "rowLimit": 10000
     },
     "inputWidgets": {},
     "nuid": "eaee9072-f2c0-4ecf-ab7f-da346b535fed",
     "showTitle": false,
     "tableResultSettingsMap": {},
     "title": ""
    }
   },
   "source": [
    "#### AI Assistant can also help fix errors\n",
    "Run the query below. When an error occurs, **[Quick Fix](https://docs.databricks.com/en/notebooks/use-databricks-assistant.html)** will automatically suggest solutions for basic issues that can be resolved with a single-line change.\n",
    "Click **Accept and run** to apply the fix and continue running your code.\n",
    "\n",
    "</br>\n",
    "<img src=\"https://docs.databricks.com/en/_images/assistant-quick-fix.png\" width=500>"
   ]
  },
  {
   "cell_type": "code",
   "execution_count": 0,
   "metadata": {
    "application/vnd.databricks.v1+cell": {
     "cellMetadata": {
      "byteLimit": 2048000,
      "implicitDf": true,
      "rowLimit": 10000
     },
     "inputWidgets": {},
     "nuid": "f5033bde-415e-4a6f-9512-7aa57b410e4e",
     "showTitle": false,
     "tableResultSettingsMap": {},
     "title": ""
    }
   },
   "outputs": [],
   "source": [
    "%sql\n",
    "SELECT date_trunc('WEEK', dateTime), sum(quantity) as totals\n",
    "from samples.bakehouse.sales_transactions\n",
    "where product = 'Golden Gate Ginger'"
   ]
  },
  {
   "cell_type": "markdown",
   "metadata": {
    "application/vnd.databricks.v1+cell": {
     "cellMetadata": {
      "byteLimit": 2048000,
      "rowLimit": 10000
     },
     "inputWidgets": {},
     "nuid": "fba6a4fe-f0d0-4ec9-bb46-68632c3f26cd",
     "showTitle": false,
     "tableResultSettingsMap": {},
     "title": ""
    },
    "jupyter": {
     "outputs_hidden": true
    }
   },
   "source": [
    "\n",
    "\n",
    "#### Continue exploring Notebooks!\n",
    "\n",
    "- To learn about adding data from CSV files to Unity Catalog and visualize data, see [Get started: Import and visualize CSV data from a notebook](https://docs.databricks.com/en/getting-started/import-visualize-data.html).\n",
    "- To learn how to load data into Databricks using Apache Spark, see [Tutorial: Load and transform data using Apache Spark DataFrames](https://docs.databricks.com/en/getting-started/dataframes.html).\n",
    "- To learn more about visualizations, see [Visualizations in Databricks notebooks](Visualizations in Databricks notebooks).\n"
   ]
  }
 ],
 "metadata": {
  "application/vnd.databricks.v1+notebook": {
   "dashboards": [],
   "environmentMetadata": {
    "base_environment": "",
    "client": "2"
   },
   "language": "python",
   "notebookMetadata": {
    "mostRecentlyExecutedCommandWithImplicitDF": {
     "commandId": 4162594510677533,
     "dataframes": [
      "_sqldf"
     ]
    },
    "pythonIndentUnit": 2
   },
   "notebookName": "Starter_notebook",
   "widgets": {}
  },
  "language_info": {
   "name": "python"
  }
 },
 "nbformat": 4,
 "nbformat_minor": 0
}
