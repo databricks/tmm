{
 "cells": [
  {
   "cell_type": "code",
   "execution_count": 0,
   "metadata": {
    "application/vnd.databricks.v1+cell": {
     "cellMetadata": {
      "byteLimit": 10485760,
      "rowLimit": 1000
     },
     "inputWidgets": {},
     "nuid": "37930b05-2f5a-4f9f-b800-97580be84ae1",
     "showTitle": false,
     "tableResultSettingsMap": {},
     "title": ""
    }
   },
   "outputs": [],
   "source": [
    "\n",
    "select * from investment_portfolios where customer_id is NULL\n",
    "\n",
    "UPDATE investment_portfolios \n",
    "SET investment_id = NULL\n",
    "WHERE investment_id IN (\n",
    "  'INV-1334959990',\n",
    "  'INV-3050673951',\n",
    "  'INV-8631479200',\n",
    "  'INV-9551396285',\n",
    "  'INV-5889270053',\n",
    "  'INV-8594699637',\n",
    "  'INV-5343012725',\n",
    "  'INV-8763079881',\n",
    "  'INV-4290868825',\n",
    "  'INV-4556191280',\n",
    "  'INV-2381350611',\n",
    "  'INV-2453251913',\n",
    "  'INV-2013053321'\n",
    ");\n",
    "\n",
    "\n",
    "\n",
    "UPDATE investment_portfolios \n",
    "SET customer_id = NULL\n",
    "WHERE customer_id IN (\n",
    "  '32df5483-afb2-4eda-b0e3-e4977f1eeb7c',\n",
    "  'fb34f3c0-3cc4-4508-90f3-7d587fada8c4',\n",
    "  '716a203f-0403-452c-9bcc-33156cf33294',\n",
    "  'ee084b67-44f9-45f8-8848-9ac04c06e4dc',\n",
    "  '1e11ecc4-c700-4973-af83-73440e88402d',\n",
    "  '9fa3cb8c-b9bc-4245-9dc9-fe29e84350bf'\n",
    ");\n",
    "\n",
    "\n",
    "UPDATE investment_portfolios \n",
    "SET customer_id = NULL\n",
    "WHERE customer_id IN (\n",
    "  'd8b64326-c9cf-4c8b-b793-c5bb7e56d18e',\n",
    "  '7bd1b223-990b-4809-a634-73cf0e1dcd4e',\n",
    "  '12b0c6fe-6d3c-4309-88af-4931806407d6',\n",
    "  '4467316d-5d80-4d5d-93b8-e1efc3999cc1',\n",
    "  '305e4209-7311-4fbf-a1d7-0528589e2550',\n",
    "  '024bc3fa-53e2-43bb-bacb-387d1823a05c',\n",
    "  'c81c404f-0772-499f-8b21-a8815c08ff1f',\n",
    "  '1ee13e2b-483c-43e0-b0c5-8a815411f739',\n",
    "  '382cc6c2-4130-4f65-a10a-c10901b32820',\n",
    "  '58bba0a1-a3e1-4cdd-bc7b-30355dbb100c',\n",
    "  '3ac497f5-a972-4113-8c08-355c516fa323',\n",
    "  '5882156e-1de4-449f-aeb9-91473c112c78',\n",
    "  'cdb702b5-0b0c-45d0-bcdd-7b7d4d5bce2f',\n",
    "  'add061f4-4bef-40d5-ac77-b2ab1c326fb4',\n",
    "  'a9959260-265a-4183-b6bd-bc7329a6d964',\n",
    "  'a8b45bbd-ddfc-4e6d-96ab-c19e2b1ab404',\n",
    "  'a2aa0385-d270-4671-9cb5-84d9c8c449be'\n",
    ");\n",
    "\n",
    "\n",
    "\n",
    "UPDATE finance_summit.ingestion.campaign \n",
    "SET campaign_id = NULL\n",
    "WHERE campaign_id IN (\n",
    "  'Google Ads-2',\n",
    "  'Facebook-3',\n",
    "  'Email-1',\n",
    "  'Facebook-2',\n",
    "  'Google Ads-4',\n",
    "  'Instagram-1',\n",
    "  'Instagram-5',\n",
    "  'Instagram-4',\n",
    "  'Mobile-5',\n",
    "  'Email-5',\n",
    "  'Instagram-2',\n",
    "  'Instagram-3',\n",
    "  'Mobile-2'\n",
    ");\n",
    "\n",
    "\n",
    "select count(*) from finance_summit.ingestion.campaign "
   ]
  }
 ],
 "metadata": {
  "application/vnd.databricks.v1+notebook": {
   "computePreferences": null,
   "dashboards": [],
   "environmentMetadata": null,
   "inputWidgetPreferences": null,
   "language": "sql",
   "notebookMetadata": {
    "pythonIndentUnit": 4,
    "sqlQueryOptions": {
     "applyAutoLimit": true,
     "catalog": "finance_summit",
     "schema": "pipeline"
    }
   },
   "notebookName": "fix customerID.dbquery.ipynb",
   "widgets": {}
  },
  "language_info": {
   "name": "sql"
  }
 },
 "nbformat": 4,
 "nbformat_minor": 0
}
