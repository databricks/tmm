{
 "cells": [
  {
   "cell_type": "code",
   "execution_count": 0,
   "metadata": {
    "application/vnd.databricks.v1+cell": {
     "cellMetadata": {
      "byteLimit": 10485760,
      "rowLimit": 1000
     },
     "inputWidgets": {},
     "nuid": "37ee21ab-c277-44b8-aacc-b7084e301d06",
     "showTitle": false,
     "tableResultSettingsMap": {},
     "title": ""
    }
   },
   "outputs": [],
   "source": [
    "select count(*) from investment_portfolio where customer_id is NULL\n",
    "\n",
    "-- Check banking_summary\n",
    "SELECT COUNT(*) as banking_count FROM banking_summary;\n",
    "\n",
    " \n",
    "\n",
    "\n",
    "SELECT COUNT(*) as networth_count FROM customer_net_worth;\n",
    "\n",
    "\n",
    "-- Check overlap between tables\n",
    "SELECT COUNT(*) as overlap_count \n",
    "FROM banking_summary b\n",
    "INNER JOIN customer_net_worth i ON b.customer_id = i.customer_id;\n",
    "\n",
    "\n",
    "-- SELECT min (customer_id) FROM banking_summary;\n",
    "-- SELECT min (customer_id) FROM customer_net_worth;\n",
    "\n",
    "\n",
    "select count(*) from investment_portfolio where customer_id is NULL"
   ]
  }
 ],
 "metadata": {
  "application/vnd.databricks.v1+notebook": {
   "computePreferences": null,
   "dashboards": [],
   "environmentMetadata": null,
   "inputWidgetPreferences": null,
   "language": "sql",
   "notebookMetadata": {
    "pythonIndentUnit": 4,
    "sqlQueryOptions": {
     "applyAutoLimit": true,
     "catalog": "finance_summit",
     "schema": "pipeline"
    }
   },
   "notebookName": "New Query 2025-06-04 1:53pm.dbquery.ipynb",
   "widgets": {}
  },
  "language_info": {
   "name": "sql"
  }
 },
 "nbformat": 4,
 "nbformat_minor": 0
}
