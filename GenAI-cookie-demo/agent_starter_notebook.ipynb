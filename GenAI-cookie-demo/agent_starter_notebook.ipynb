{
 "cells": [
  {
   "cell_type": "markdown",
   "metadata": {
    "application/vnd.databricks.v1+cell": {
     "cellMetadata": {},
     "inputWidgets": {},
     "nuid": "235374e5-6b2f-4e00-a320-7ad54822f2e0",
     "showTitle": false,
     "tableResultSettingsMap": {},
     "title": ""
    }
   },
   "source": [
    "# AI-Driven Data Intelligence for Smarter Cookie Franchises\n",
    "\n",
    "Welcome to this demo, where you’ll build a powerful AI agent tailored for a cookie franchise business. This agent is designed to empower franchise owners to analyze customer data, create targeted marketing campaigns, and develop data-driven sales strategies that improve their operations.\n",
    "\n",
    "By using data intelligence rather than generic insights, franchises can understand top-selling products and create campaigns based on actual sales data.\n",
    "\n",
    "This notebook will guide you through creating and registering simple functions in Unity Catalog, providing governed access to insights. You'll then build a chat-based AI using these functions, enabling franchises to develop smarter, data-driven campaigns.\n",
    "\n",
    "Here's what we'll cover:\n",
    "\n",
    "- Creating and registering SQL functions in Unity Catalog\n",
    "- Using Langchain to integrate these functions as tools\n",
    "- Building an AI agent to execute these tools and tackle complex questions"
   ]
  },
  {
   "cell_type": "code",
   "execution_count": 0,
   "metadata": {
    "application/vnd.databricks.v1+cell": {
     "cellMetadata": {},
     "inputWidgets": {},
     "nuid": "afa69474-df8f-4a36-81de-86b6922b753f",
     "showTitle": false,
     "tableResultSettingsMap": {},
     "title": ""
    }
   },
   "outputs": [],
   "source": [
    "%pip install -q langchain-community==0.2.16 langchain-openai==0.1.19 mlflow==2.15.1 databricks-agents==0.5.0 langchain==0.2.16\n",
    "%restart_python"
   ]
  },
  {
   "cell_type": "markdown",
   "metadata": {
    "application/vnd.databricks.v1+cell": {
     "cellMetadata": {},
     "inputWidgets": {},
     "nuid": "2011293c-8b67-453b-bb63-65ab36baf8c7",
     "showTitle": false,
     "tableResultSettingsMap": {},
     "title": ""
    }
   },
   "source": [
    "\n",
    "## Step 1: Function/Tool Creation in Unity Catalog\n",
    "\n",
    "You'll create two functions:\n",
    "- A simple query to retrieve an ID based on a city name\n",
    "- An aggregate query that returns sales data for a given ID"
   ]
  },
  {
   "cell_type": "code",
   "execution_count": 0,
   "metadata": {
    "application/vnd.databricks.v1+cell": {
     "cellMetadata": {},
     "inputWidgets": {},
     "nuid": "af549a5c-5358-4b23-95f1-1bd163942588",
     "showTitle": true,
     "tableResultSettingsMap": {},
     "title": "Create Franchise by City Function"
    }
   },
   "outputs": [],
   "source": [
    "%sql\n",
    "-- First lets make sure it doesnt already exist\n",
    "DROP FUNCTION IF EXISTS workspace.default.franchise_by_city;\n",
    "-- Now we create our first function. This takes in a city name and returns a table of any franchises that are in that city.\n",
    "-- Note that we've added a comment to the input parameter to help guide the agent later on.\n",
    "CREATE OR REPLACE FUNCTION\n",
    "workspace.default.franchise_by_city(\n",
    "  city_name STRING COMMENT 'City to be searched'\n",
    ")\n",
    "returns table(franchiseID BIGINT, name STRING, size STRING)\n",
    "return\n",
    "(SELECT franchiseID, name, size from samples.bakehouse.sales_franchises where city=city_name \n",
    "     order by size desc)\n"
   ]
  },
  {
   "cell_type": "code",
   "execution_count": 0,
   "metadata": {
    "application/vnd.databricks.v1+cell": {
     "cellMetadata": {},
     "inputWidgets": {},
     "nuid": "9e1d8f13-264f-4f65-b9af-18cb56ebdc60",
     "showTitle": true,
     "tableResultSettingsMap": {},
     "title": "Test Franchise by City Function"
    }
   },
   "outputs": [],
   "source": [
    "%sql\n",
    "-- Test the function we just created\n",
    "SELECT * from workspace.default.franchise_by_city('Seattle')"
   ]
  },
  {
   "cell_type": "code",
   "execution_count": 0,
   "metadata": {
    "application/vnd.databricks.v1+cell": {
     "cellMetadata": {},
     "inputWidgets": {},
     "nuid": "5191c112-da82-435d-af35-38a38e5d7fe3",
     "showTitle": true,
     "tableResultSettingsMap": {},
     "title": "Create Sales Function"
    }
   },
   "outputs": [],
   "source": [
    "%sql\n",
    "-- Again check that it exists\n",
    "DROP FUNCTION IF EXISTS workspace.default.franchise_sales;\n",
    "-- This function takes an ID as input, and this time does an aggregate to return the sales for that franchise_id.\n",
    "CREATE OR REPLACE FUNCTION\n",
    "workspace.default.franchise_sales (\n",
    "  franchise_id BIGINT COMMENT 'ID of the franchise to be searched'\n",
    ")\n",
    "returns table(total_sales BIGINT, total_quantity BIGINT, product STRING)\n",
    "return\n",
    "(SELECT SUM(totalPrice) AS total_sales, SUM(quantity) AS total_quantity, product \n",
    "FROM samples.bakehouse.sales_transactions \n",
    "WHERE franchiseID = franchise_id GROUP BY product)"
   ]
  },
  {
   "cell_type": "code",
   "execution_count": 0,
   "metadata": {
    "application/vnd.databricks.v1+cell": {
     "cellMetadata": {},
     "inputWidgets": {},
     "nuid": "8e472d88-a1a7-4631-bc3f-c30bfb445191",
     "showTitle": true,
     "tableResultSettingsMap": {},
     "title": "Test Sales Function"
    }
   },
   "outputs": [],
   "source": [
    "%sql\n",
    "-- Check the sales function works - we're going to use the franchise_id from the previous query\n",
    "Select * from workspace.default.franchise_sales(3000038)"
   ]
  },
  {
   "cell_type": "code",
   "execution_count": 0,
   "metadata": {
    "application/vnd.databricks.v1+cell": {
     "cellMetadata": {},
     "inputWidgets": {},
     "nuid": "c48a14cd-215c-4498-8842-967010402ebd",
     "showTitle": false,
     "tableResultSettingsMap": {},
     "title": ""
    }
   },
   "outputs": [],
   "source": [
    "import mlflow\n",
    "import langchain\n",
    "\n",
    "# This is going to allow us to understand what happens during every part of the agent's execution\n",
    "mlflow.langchain.autolog(disable=False)"
   ]
  },
  {
   "cell_type": "markdown",
   "metadata": {
    "application/vnd.databricks.v1+cell": {
     "cellMetadata": {},
     "inputWidgets": {},
     "nuid": "c7a41172-6909-4285-ae48-dcd5d7491025",
     "showTitle": false,
     "tableResultSettingsMap": {},
     "title": ""
    }
   },
   "source": [
    "## Step 2: Create Agent\n",
    "\n",
    "In this step, we're going to define three cruicial parts of our agent:\n",
    "- Tools for the Agent to use\n",
    "- LLM to serve as the agent's \"brains\"\n",
    "- System prompt that defines guidelines for the agent's tasks"
   ]
  },
  {
   "cell_type": "code",
   "execution_count": 0,
   "metadata": {
    "application/vnd.databricks.v1+cell": {
     "cellMetadata": {},
     "inputWidgets": {},
     "nuid": "3bd9bf84-f848-4b08-90df-c3eba482294c",
     "showTitle": false,
     "tableResultSettingsMap": {},
     "title": ""
    }
   },
   "outputs": [],
   "source": [
    "from langchain_community.tools.databricks import UCFunctionToolkit\n",
    "from databricks.sdk import WorkspaceClient\n",
    "import pandas as pd\n",
    "import time\n",
    "\n",
    "w = WorkspaceClient()\n",
    "\n",
    "def get_shared_warehouse():\n",
    "    w = WorkspaceClient()\n",
    "    warehouses = w.warehouses.list()\n",
    "    for wh in warehouses:\n",
    "        if wh.name == \"Serverless Starter Warehouse\":\n",
    "            if wh.num_clusters == 0:\n",
    "                w.warehouses.start(wh.id)\n",
    "                time.sleep(5)\n",
    "                return wh\n",
    "            else:\n",
    "                return wh \n",
    "    raise Exception(\"Couldn't find any Warehouse to use. Please start the serverless SQL Warehouse for this code to run.\")\n",
    "    \n",
    "wh_id = get_shared_warehouse().id\n",
    "\n",
    "def get_tools():\n",
    "    return (\n",
    "        UCFunctionToolkit(warehouse_id=wh_id)\n",
    "        .include(\"workspace.default.*\")\n",
    "        .get_tools())"
   ]
  },
  {
   "cell_type": "code",
   "execution_count": 0,
   "metadata": {
    "application/vnd.databricks.v1+cell": {
     "cellMetadata": {},
     "inputWidgets": {},
     "nuid": "dd00184b-4acb-4c6a-b6a5-a579f0f5f737",
     "showTitle": false,
     "tableResultSettingsMap": {},
     "title": ""
    }
   },
   "outputs": [],
   "source": [
    "from langchain_community.chat_models.databricks import ChatDatabricks\n",
    "\n",
    "# We're going to use llama 3.1 because it's tool enabled and works great. Keep temp at 0 to make it more deterministic.\n",
    "llm = ChatDatabricks(endpoint=\"databricks-meta-llama-3-3-70b-instruct\",\n",
    "    temperature=0.0,\n",
    "    streaming=False)"
   ]
  },
  {
   "cell_type": "code",
   "execution_count": 0,
   "metadata": {
    "application/vnd.databricks.v1+cell": {
     "cellMetadata": {},
     "inputWidgets": {},
     "nuid": "53f88fb5-4147-437f-88d9-b9012b74342d",
     "showTitle": false,
     "tableResultSettingsMap": {},
     "title": ""
    }
   },
   "outputs": [],
   "source": [
    "from langchain_core.prompts import ChatPromptTemplate\n",
    "from langchain_community.chat_models import ChatDatabricks\n",
    "\n",
    "# This defines our agent's system prompt. Here we can tell it what we expect it to do and guide it on using specific functions. \n",
    "\n",
    "def get_prompt(history = [], prompt = None):\n",
    "    if not prompt:\n",
    "            prompt = \"\"\"You are a helpful assistant for a global company that oversees cookie stores. Your task is to help store owners understand more about their products and sales metrics. You have the ability to execute functions as follows: \n",
    "\n",
    "            Use the franchise_by_city function to retrieve the franchiseID for a given city name.\n",
    "\n",
    "            Use the franchise_sales function to retrieve the cookie sales for a given franchiseID. This should be run for each franchiseID. Do not ask the user if they want to see another store, just run it for ALL franchiseIDs.\n",
    "\n",
    "    Make sure to call the function for each step and provide a coherent final response to the user. Don't mention tools to your users. Don't skip to the next step without ensuring the function was called and a result was retrieved. Only answer what the user is asking for.\"\"\"\n",
    "    return ChatPromptTemplate.from_messages([\n",
    "            (\"system\", prompt),\n",
    "            (\"human\", \"{messages}\"),\n",
    "            (\"placeholder\", \"{agent_scratchpad}\"),\n",
    "    ])"
   ]
  },
  {
   "cell_type": "code",
   "execution_count": 0,
   "metadata": {
    "application/vnd.databricks.v1+cell": {
     "cellMetadata": {},
     "inputWidgets": {},
     "nuid": "d6a65956-105c-499f-ab24-090ddb0544a2",
     "showTitle": false,
     "tableResultSettingsMap": {},
     "title": ""
    }
   },
   "outputs": [],
   "source": [
    "from langchain.agents import AgentExecutor, create_openai_tools_agent, Tool, load_tools\n",
    "\n",
    "prompt = get_prompt()\n",
    "tools = get_tools()\n",
    "agent = create_openai_tools_agent(llm, tools, prompt)\n",
    "\n",
    "# Here we're collecting the defined pieces and putting them together to create our Agent\n",
    "agent_executor = AgentExecutor(agent=agent, tools=tools, verbose=True)"
   ]
  },
  {
   "cell_type": "code",
   "execution_count": 0,
   "metadata": {
    "application/vnd.databricks.v1+cell": {
     "cellMetadata": {},
     "inputWidgets": {},
     "nuid": "b170db23-4025-4ea8-a0a6-e984db621a79",
     "showTitle": false,
     "tableResultSettingsMap": {},
     "title": ""
    }
   },
   "outputs": [],
   "source": [
    "from operator import itemgetter\n",
    "from langchain.schema.runnable import RunnableLambda\n",
    "from langchain_core.output_parsers import StrOutputParser\n",
    "\n",
    "# Very basic chain that allows us to pass the input (messages) into the Agent and collect the (output) as a string\n",
    "agent_str = ({ \"messages\": itemgetter(\"messages\")} | agent_executor | itemgetter(\"output\") | StrOutputParser() )"
   ]
  },
  {
   "cell_type": "code",
   "execution_count": 0,
   "metadata": {
    "application/vnd.databricks.v1+cell": {
     "cellMetadata": {},
     "inputWidgets": {},
     "nuid": "627d40fd-5b9a-4dcd-b5a9-3f7ede4d2c49",
     "showTitle": false,
     "tableResultSettingsMap": {},
     "title": ""
    }
   },
   "outputs": [],
   "source": [
    "# Lets ask our Compound AI Agent to generate an Instagram post. This requires it to:\n",
    "#     1. Look up what stores are in Seattle\n",
    "#     2. Use sales data to look up the best selling cookie at that store\n",
    "\n",
    "answer=agent_str.invoke({\"messages\": \"What is the best selling cookie in our Seattle stores?\"})"
   ]
  },
  {
   "cell_type": "markdown",
   "metadata": {
    "application/vnd.databricks.v1+cell": {
     "cellMetadata": {},
     "inputWidgets": {},
     "nuid": "3192a591-deaa-4a47-8b83-21f0a08b42b9",
     "showTitle": false,
     "tableResultSettingsMap": {},
     "title": ""
    }
   },
   "source": [
    "## Excited for more?\n",
    "\n",
    "- Catch the full demo in action [here](https://www.youtube.com/watch?v=UfbyzK488Hk&t=3501s). \n",
    "- Take the next step and build a [RAG-based chatbot](https://www.databricks.com/resources/demos/tutorials/data-science-and-ai/lakehouse-ai-deploy-your-llm-chatbot?itm_data=demo_center) with added contextual depth!"
   ]
  }
 ],
 "metadata": {
  "application/vnd.databricks.v1+notebook": {
   "computePreferences": {
    "hardware": {
     "accelerator": null,
     "gpuPoolId": null,
     "memory": null
    }
   },
   "dashboards": [],
   "environmentMetadata": {
    "base_environment": "",
    "environment_version": "2"
   },
   "inputWidgetPreferences": null,
   "language": "python",
   "notebookMetadata": {
    "pythonIndentUnit": 4
   },
   "notebookName": "agent_starter_notebook",
   "widgets": {}
  },
  "language_info": {
   "name": "python"
  }
 },
 "nbformat": 4,
 "nbformat_minor": 0
}